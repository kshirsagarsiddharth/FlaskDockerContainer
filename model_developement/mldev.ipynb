{
 "cells": [
  {
   "cell_type": "code",
   "execution_count": 1,
   "metadata": {},
   "outputs": [
    {
     "name": "stderr",
     "output_type": "stream",
     "text": [
      "[nltk_data] Downloading package omw-1.4 to\n",
      "[nltk_data]     C:\\Users\\siddharth_black_pred\\AppData\\Roaming\\nltk_dat\n",
      "[nltk_data]     a...\n",
      "[nltk_data]   Package omw-1.4 is already up-to-date!\n",
      "[nltk_data] Downloading package wordnet to\n",
      "[nltk_data]     C:\\Users\\siddharth_black_pred\\AppData\\Roaming\\nltk_dat\n",
      "[nltk_data]     a...\n",
      "[nltk_data]   Package wordnet is already up-to-date!\n"
     ]
    },
    {
     "data": {
      "text/plain": [
       "True"
      ]
     },
     "execution_count": 1,
     "metadata": {},
     "output_type": "execute_result"
    }
   ],
   "source": [
    "import re\n",
    "import pickle\n",
    "import joblib\n",
    "import pandas as pd\n",
    "\n",
    "from nltk.stem import WordNetLemmatizer\n",
    "from sklearn.svm import LinearSVC\n",
    "from sklearn.pipeline import Pipeline\n",
    "from sklearn.linear_model import LogisticRegression\n",
    "from sklearn.naive_bayes import BernoulliNB\n",
    "\n",
    "from sklearn.model_selection import train_test_split\n",
    "from sklearn.feature_extraction.text import TfidfVectorizer\n",
    "from sklearn.metrics import classification_report\n",
    "import nltk\n",
    "from tqdm.notebook import tqdm\n",
    "\n",
    "nltk.download(\"omw-1.4\")\n",
    "nltk.download(\"wordnet\")"
   ]
  },
  {
   "cell_type": "code",
   "execution_count": 2,
   "metadata": {},
   "outputs": [],
   "source": [
    "DATASET_COLUMNS = [\"sentiment\", \"ids\", \"date\", \"flag\", \"user\", \"text\"]\n",
    "DATASET_ENCODING = \"ISO-8859-1\"\n",
    "dataset = pd.read_csv(\n",
    "    \"training.1600000.processed.noemoticon.csv\",\n",
    "    encoding=DATASET_ENCODING,\n",
    "    names=DATASET_COLUMNS,\n",
    ")\n",
    "\n",
    "# Removing the unnecessary columns.\n",
    "dataset = dataset[[\"sentiment\", \"text\"]]"
   ]
  },
  {
   "cell_type": "code",
   "execution_count": 3,
   "metadata": {},
   "outputs": [],
   "source": [
    "dataset[\"sentiment\"] = dataset[\"sentiment\"].replace(4, 1)\n",
    "\n",
    "# Storing data in lists.\n",
    "text, sentiment = list(dataset[\"text\"]), list(dataset[\"sentiment\"])"
   ]
  },
  {
   "cell_type": "code",
   "execution_count": 4,
   "metadata": {},
   "outputs": [],
   "source": [
    "# Defining dictionary containing all emojis with their meanings.\n",
    "emojis = {\n",
    "    \":)\": \"smile\",\n",
    "    \":-)\": \"smile\",\n",
    "    \";d\": \"wink\",\n",
    "    \":-E\": \"vampire\",\n",
    "    \":(\": \"sad\",\n",
    "    \":-(\": \"sad\",\n",
    "    \":-<\": \"sad\",\n",
    "    \":P\": \"raspberry\",\n",
    "    \":O\": \"surprised\",\n",
    "    \":-@\": \"shocked\",\n",
    "    \":@\": \"shocked\",\n",
    "    \":-$\": \"confused\",\n",
    "    \":\\\\\": \"annoyed\",\n",
    "    \":#\": \"mute\",\n",
    "    \":X\": \"mute\",\n",
    "    \":^)\": \"smile\",\n",
    "    \":-&\": \"confused\",\n",
    "    \"$_$\": \"greedy\",\n",
    "    \"@@\": \"eyeroll\",\n",
    "    \":-!\": \"confused\",\n",
    "    \":-D\": \"smile\",\n",
    "    \":-0\": \"yell\",\n",
    "    \"O.o\": \"confused\",\n",
    "    \"<(-_-)>\": \"robot\",\n",
    "    \"d[-_-]b\": \"dj\",\n",
    "    \":'-)\": \"sadsmile\",\n",
    "    \";)\": \"wink\",\n",
    "    \";-)\": \"wink\",\n",
    "    \"O:-)\": \"angel\",\n",
    "    \"O*-)\": \"angel\",\n",
    "    \"(:-D\": \"gossip\",\n",
    "    \"=^.^=\": \"cat\",\n",
    "}\n",
    "\n",
    "## Defining set containing all stopwords in english.\n",
    "stopwords = [\n",
    "    \"a\",\n",
    "    \"about\",\n",
    "    \"above\",\n",
    "    \"after\",\n",
    "    \"again\",\n",
    "    \"ain\",\n",
    "    \"all\",\n",
    "    \"am\",\n",
    "    \"an\",\n",
    "    \"and\",\n",
    "    \"any\",\n",
    "    \"are\",\n",
    "    \"as\",\n",
    "    \"at\",\n",
    "    \"be\",\n",
    "    \"because\",\n",
    "    \"been\",\n",
    "    \"before\",\n",
    "    \"being\",\n",
    "    \"below\",\n",
    "    \"between\",\n",
    "    \"both\",\n",
    "    \"by\",\n",
    "    \"can\",\n",
    "    \"d\",\n",
    "    \"did\",\n",
    "    \"do\",\n",
    "    \"does\",\n",
    "    \"doing\",\n",
    "    \"down\",\n",
    "    \"during\",\n",
    "    \"each\",\n",
    "    \"few\",\n",
    "    \"for\",\n",
    "    \"from\",\n",
    "    \"further\",\n",
    "    \"had\",\n",
    "    \"has\",\n",
    "    \"have\",\n",
    "    \"having\",\n",
    "    \"he\",\n",
    "    \"her\",\n",
    "    \"here\",\n",
    "    \"hers\",\n",
    "    \"herself\",\n",
    "    \"him\",\n",
    "    \"himself\",\n",
    "    \"his\",\n",
    "    \"how\",\n",
    "    \"i\",\n",
    "    \"if\",\n",
    "    \"in\",\n",
    "    \"into\",\n",
    "    \"is\",\n",
    "    \"it\",\n",
    "    \"its\",\n",
    "    \"itself\",\n",
    "    \"just\",\n",
    "    \"ll\",\n",
    "    \"m\",\n",
    "    \"ma\",\n",
    "    \"me\",\n",
    "    \"more\",\n",
    "    \"most\",\n",
    "    \"my\",\n",
    "    \"myself\",\n",
    "    \"now\",\n",
    "    \"o\",\n",
    "    \"of\",\n",
    "    \"on\",\n",
    "    \"once\",\n",
    "    \"only\",\n",
    "    \"or\",\n",
    "    \"other\",\n",
    "    \"our\",\n",
    "    \"ours\",\n",
    "    \"ourselves\",\n",
    "    \"out\",\n",
    "    \"own\",\n",
    "    \"re\",\n",
    "    \"s\",\n",
    "    \"same\",\n",
    "    \"she\",\n",
    "    \"shes\",\n",
    "    \"should\",\n",
    "    \"shouldve\",\n",
    "    \"so\",\n",
    "    \"some\",\n",
    "    \"such\",\n",
    "    \"t\",\n",
    "    \"than\",\n",
    "    \"that\",\n",
    "    \"thatll\",\n",
    "    \"the\",\n",
    "    \"their\",\n",
    "    \"theirs\",\n",
    "    \"them\",\n",
    "    \"themselves\",\n",
    "    \"then\",\n",
    "    \"there\",\n",
    "    \"these\",\n",
    "    \"they\",\n",
    "    \"this\",\n",
    "    \"those\",\n",
    "    \"through\",\n",
    "    \"to\",\n",
    "    \"too\",\n",
    "    \"under\",\n",
    "    \"until\",\n",
    "    \"up\",\n",
    "    \"ve\",\n",
    "    \"very\",\n",
    "    \"was\",\n",
    "    \"we\",\n",
    "    \"were\",\n",
    "    \"what\",\n",
    "    \"when\",\n",
    "    \"where\",\n",
    "    \"which\",\n",
    "    \"while\",\n",
    "    \"who\",\n",
    "    \"whom\",\n",
    "    \"why\",\n",
    "    \"will\",\n",
    "    \"with\",\n",
    "    \"won\",\n",
    "    \"y\",\n",
    "    \"you\",\n",
    "    \"youd\",\n",
    "    \"youll\",\n",
    "    \"youre\",\n",
    "    \"youve\",\n",
    "    \"your\",\n",
    "    \"yours\",\n",
    "    \"yourself\",\n",
    "    \"yourselves\",\n",
    "]"
   ]
  },
  {
   "cell_type": "code",
   "execution_count": 5,
   "metadata": {},
   "outputs": [],
   "source": [
    "lemmatizer = WordNetLemmatizer()\n",
    "\n",
    "\n",
    "def preprocess(textdata):\n",
    "    preprocessed_texts = []\n",
    "    url_pattern = r\"((http://)[^ ]*|(https://)[^ ]*|(www\\.)[^ ]*)\"\n",
    "    user_pattern = r\"@[^\\s]+\"\n",
    "    alpha_pattern = \"[^a-zA-Z0-9]\"\n",
    "    sequence_pattern = r\"(.)\\1\\1+\"\n",
    "    seq_replace_pattern = r\"\\1\\1\"\n",
    "\n",
    "    for tweet in tqdm(textdata):\n",
    "        # lower a individual tweet\n",
    "        tweet = tweet.lower()\n",
    "        # replace all the URL's with URL\n",
    "        tweet = re.sub(url_pattern, \" URL\", tweet)\n",
    "\n",
    "        # replace all the emojies\n",
    "        for emoji in emojis.keys():\n",
    "            tweet = tweet.replace(emoji, \"EMOJI\" + emojis[emoji])\n",
    "        # replace all the usernames with USER\n",
    "        tweet = re.sub(user_pattern, \" USER\", tweet)\n",
    "        # replace all non alphabets\n",
    "        tweet = re.sub(alpha_pattern, \" \", tweet)\n",
    "        # replace 3 or more consicitive letters with 2 letters\n",
    "        tweet = re.sub(sequence_pattern, seq_replace_pattern, tweet)\n",
    "\n",
    "        preprocessed_words = []\n",
    "        for word in tweet.split():\n",
    "            # check if the word is a stopword\n",
    "            if len(word) > 1 and word not in stopwords:\n",
    "                word = lemmatizer.lemmatize(word)\n",
    "                preprocessed_words.append(word)\n",
    "\n",
    "        preprocessed_texts.append(\" \".join(preprocessed_words))\n",
    "\n",
    "    return preprocessed_texts"
   ]
  },
  {
   "cell_type": "code",
   "execution_count": 6,
   "metadata": {},
   "outputs": [
    {
     "data": {
      "application/vnd.jupyter.widget-view+json": {
       "model_id": "87167b714ad94d709c736685de6029bc",
       "version_major": 2,
       "version_minor": 0
      },
      "text/plain": [
       "  0%|          | 0/1600000 [00:00<?, ?it/s]"
      ]
     },
     "metadata": {},
     "output_type": "display_data"
    }
   ],
   "source": [
    "processed_text = preprocess(text)\n"
   ]
  },
  {
   "cell_type": "code",
   "execution_count": 7,
   "metadata": {},
   "outputs": [],
   "source": [
    "X_train, X_test, y_train, y_test = train_test_split(\n",
    "    processed_text, sentiment, test_size=0.05, random_state=0\n",
    ")"
   ]
  },
  {
   "cell_type": "code",
   "execution_count": 8,
   "metadata": {},
   "outputs": [
    {
     "data": {
      "text/html": [
       "<style>#sk-container-id-1 {color: black;background-color: white;}#sk-container-id-1 pre{padding: 0;}#sk-container-id-1 div.sk-toggleable {background-color: white;}#sk-container-id-1 label.sk-toggleable__label {cursor: pointer;display: block;width: 100%;margin-bottom: 0;padding: 0.3em;box-sizing: border-box;text-align: center;}#sk-container-id-1 label.sk-toggleable__label-arrow:before {content: \"▸\";float: left;margin-right: 0.25em;color: #696969;}#sk-container-id-1 label.sk-toggleable__label-arrow:hover:before {color: black;}#sk-container-id-1 div.sk-estimator:hover label.sk-toggleable__label-arrow:before {color: black;}#sk-container-id-1 div.sk-toggleable__content {max-height: 0;max-width: 0;overflow: hidden;text-align: left;background-color: #f0f8ff;}#sk-container-id-1 div.sk-toggleable__content pre {margin: 0.2em;color: black;border-radius: 0.25em;background-color: #f0f8ff;}#sk-container-id-1 input.sk-toggleable__control:checked~div.sk-toggleable__content {max-height: 200px;max-width: 100%;overflow: auto;}#sk-container-id-1 input.sk-toggleable__control:checked~label.sk-toggleable__label-arrow:before {content: \"▾\";}#sk-container-id-1 div.sk-estimator input.sk-toggleable__control:checked~label.sk-toggleable__label {background-color: #d4ebff;}#sk-container-id-1 div.sk-label input.sk-toggleable__control:checked~label.sk-toggleable__label {background-color: #d4ebff;}#sk-container-id-1 input.sk-hidden--visually {border: 0;clip: rect(1px 1px 1px 1px);clip: rect(1px, 1px, 1px, 1px);height: 1px;margin: -1px;overflow: hidden;padding: 0;position: absolute;width: 1px;}#sk-container-id-1 div.sk-estimator {font-family: monospace;background-color: #f0f8ff;border: 1px dotted black;border-radius: 0.25em;box-sizing: border-box;margin-bottom: 0.5em;}#sk-container-id-1 div.sk-estimator:hover {background-color: #d4ebff;}#sk-container-id-1 div.sk-parallel-item::after {content: \"\";width: 100%;border-bottom: 1px solid gray;flex-grow: 1;}#sk-container-id-1 div.sk-label:hover label.sk-toggleable__label {background-color: #d4ebff;}#sk-container-id-1 div.sk-serial::before {content: \"\";position: absolute;border-left: 1px solid gray;box-sizing: border-box;top: 0;bottom: 0;left: 50%;z-index: 0;}#sk-container-id-1 div.sk-serial {display: flex;flex-direction: column;align-items: center;background-color: white;padding-right: 0.2em;padding-left: 0.2em;position: relative;}#sk-container-id-1 div.sk-item {position: relative;z-index: 1;}#sk-container-id-1 div.sk-parallel {display: flex;align-items: stretch;justify-content: center;background-color: white;position: relative;}#sk-container-id-1 div.sk-item::before, #sk-container-id-1 div.sk-parallel-item::before {content: \"\";position: absolute;border-left: 1px solid gray;box-sizing: border-box;top: 0;bottom: 0;left: 50%;z-index: -1;}#sk-container-id-1 div.sk-parallel-item {display: flex;flex-direction: column;z-index: 1;position: relative;background-color: white;}#sk-container-id-1 div.sk-parallel-item:first-child::after {align-self: flex-end;width: 50%;}#sk-container-id-1 div.sk-parallel-item:last-child::after {align-self: flex-start;width: 50%;}#sk-container-id-1 div.sk-parallel-item:only-child::after {width: 0;}#sk-container-id-1 div.sk-dashed-wrapped {border: 1px dashed gray;margin: 0 0.4em 0.5em 0.4em;box-sizing: border-box;padding-bottom: 0.4em;background-color: white;}#sk-container-id-1 div.sk-label label {font-family: monospace;font-weight: bold;display: inline-block;line-height: 1.2em;}#sk-container-id-1 div.sk-label-container {text-align: center;}#sk-container-id-1 div.sk-container {/* jupyter's `normalize.less` sets `[hidden] { display: none; }` but bootstrap.min.css set `[hidden] { display: none !important; }` so we also need the `!important` here to be able to override the default hidden behavior on the sphinx rendered scikit-learn.org. See: https://github.com/scikit-learn/scikit-learn/issues/21755 */display: inline-block !important;position: relative;}#sk-container-id-1 div.sk-text-repr-fallback {display: none;}</style><div id=\"sk-container-id-1\" class=\"sk-top-container\"><div class=\"sk-text-repr-fallback\"><pre>TfidfVectorizer(max_features=500000, ngram_range=(1, 2))</pre><b>In a Jupyter environment, please rerun this cell to show the HTML representation or trust the notebook. <br />On GitHub, the HTML representation is unable to render, please try loading this page with nbviewer.org.</b></div><div class=\"sk-container\" hidden><div class=\"sk-item\"><div class=\"sk-estimator sk-toggleable\"><input class=\"sk-toggleable__control sk-hidden--visually\" id=\"sk-estimator-id-1\" type=\"checkbox\" checked><label for=\"sk-estimator-id-1\" class=\"sk-toggleable__label sk-toggleable__label-arrow\">TfidfVectorizer</label><div class=\"sk-toggleable__content\"><pre>TfidfVectorizer(max_features=500000, ngram_range=(1, 2))</pre></div></div></div></div></div>"
      ],
      "text/plain": [
       "TfidfVectorizer(max_features=500000, ngram_range=(1, 2))"
      ]
     },
     "execution_count": 8,
     "metadata": {},
     "output_type": "execute_result"
    }
   ],
   "source": [
    "vectorizer = TfidfVectorizer(ngram_range=(1, 2), max_features=500000)\n",
    "vectorizer.fit(X_train)"
   ]
  },
  {
   "cell_type": "code",
   "execution_count": 9,
   "metadata": {},
   "outputs": [],
   "source": [
    "X_train = vectorizer.transform(X_train)\n",
    "X_test = vectorizer.transform(X_test)"
   ]
  },
  {
   "cell_type": "code",
   "execution_count": 10,
   "metadata": {},
   "outputs": [],
   "source": [
    "def evaluate_model(model):\n",
    "    y_pred = model.predict(X_test)\n",
    "    print(classification_report(y_test, y_pred))"
   ]
  },
  {
   "cell_type": "code",
   "execution_count": 11,
   "metadata": {},
   "outputs": [
    {
     "name": "stdout",
     "output_type": "stream",
     "text": [
      "              precision    recall  f1-score   support\n",
      "\n",
      "           0       0.80      0.79      0.80     39989\n",
      "           1       0.79      0.81      0.80     40011\n",
      "\n",
      "    accuracy                           0.80     80000\n",
      "   macro avg       0.80      0.80      0.80     80000\n",
      "weighted avg       0.80      0.80      0.80     80000\n",
      "\n"
     ]
    }
   ],
   "source": [
    "bb_model = BernoulliNB(alpha=2)\n",
    "bb_model.fit(X_train, y_train)\n",
    "evaluate_model(bb_model)"
   ]
  },
  {
   "cell_type": "code",
   "execution_count": 12,
   "metadata": {},
   "outputs": [
    {
     "name": "stdout",
     "output_type": "stream",
     "text": [
      "              precision    recall  f1-score   support\n",
      "\n",
      "           0       0.81      0.79      0.80     39989\n",
      "           1       0.80      0.81      0.81     40011\n",
      "\n",
      "    accuracy                           0.80     80000\n",
      "   macro avg       0.80      0.80      0.80     80000\n",
      "weighted avg       0.80      0.80      0.80     80000\n",
      "\n"
     ]
    }
   ],
   "source": [
    "svc_model = LinearSVC()\n",
    "svc_model.fit(X_train, y_train)\n",
    "evaluate_model(svc_model)"
   ]
  },
  {
   "cell_type": "code",
   "execution_count": 13,
   "metadata": {},
   "outputs": [],
   "source": [
    "# lr_model = LogisticRegression(C = 2, max_iter=1000, n_jobs=-1)\n",
    "# lr_model.fit(X_train,y_train)\n",
    "# evaluate_model(lr_model)\n"
   ]
  },
  {
   "cell_type": "code",
   "execution_count": 14,
   "metadata": {},
   "outputs": [
    {
     "name": "stdout",
     "output_type": "stream",
     "text": [
      "              precision    recall  f1-score   support\n",
      "\n",
      "           0       0.80      0.79      0.80     39989\n",
      "           1       0.79      0.81      0.80     40011\n",
      "\n",
      "    accuracy                           0.80     80000\n",
      "   macro avg       0.80      0.80      0.80     80000\n",
      "weighted avg       0.80      0.80      0.80     80000\n",
      "\n"
     ]
    }
   ],
   "source": [
    "X_train, X_test, y_train, y_test = train_test_split(\n",
    "    processed_text, sentiment, test_size=0.05, random_state=0\n",
    ")\n",
    "pipe = Pipeline([(\"vectorizer\", vectorizer), (\"bnb\", bb_model)])\n",
    "\n",
    "pipe.fit(X_train, y_train)\n",
    "evaluate_model(pipe)"
   ]
  },
  {
   "cell_type": "code",
   "execution_count": 15,
   "metadata": {},
   "outputs": [
    {
     "name": "stdout",
     "output_type": "stream",
     "text": [
      "              precision    recall  f1-score   support\n",
      "\n",
      "           0       0.80      0.79      0.80     39989\n",
      "           1       0.79      0.81      0.80     40011\n",
      "\n",
      "    accuracy                           0.80     80000\n",
      "   macro avg       0.80      0.80      0.80     80000\n",
      "weighted avg       0.80      0.80      0.80     80000\n",
      "\n"
     ]
    }
   ],
   "source": [
    "with open(\"pipeline.pickle\", \"wb\") as f:\n",
    "    pickle.dump(pipe, f)\n",
    "\n",
    "with open(\"pipeline.pickle\", \"rb\") as f:\n",
    "    loaded_pipe = pickle.load(f)\n",
    "\n",
    "evaluate_model(loaded_pipe)"
   ]
  },
  {
   "cell_type": "code",
   "execution_count": 16,
   "metadata": {},
   "outputs": [],
   "source": []
  },
  {
   "cell_type": "code",
   "execution_count": 17,
   "metadata": {},
   "outputs": [],
   "source": [
    "\n",
    "\n",
    "def predict(model, text): \n",
    "    pred_to_label = {0: \"negative\", 1: \"positive\"}\n",
    "    preprocessed_text = preprocess(text) \n",
    "\n",
    "    predictions = model.predict(preprocessed_text) \n",
    "\n",
    "    data = [] \n",
    "    for t, pred in zip(text, predictions): \n",
    "        data.append([t, pred, pred_to_label[pred]])\n",
    "    \n",
    "    return data"
   ]
  },
  {
   "cell_type": "code",
   "execution_count": 18,
   "metadata": {},
   "outputs": [
    {
     "data": {
      "application/vnd.jupyter.widget-view+json": {
       "model_id": "574af9f2ca944479b7928b33c4a10ea0",
       "version_major": 2,
       "version_minor": 0
      },
      "text/plain": [
       "  0%|          | 0/3 [00:00<?, ?it/s]"
      ]
     },
     "metadata": {},
     "output_type": "display_data"
    },
    {
     "name": "stdout",
     "output_type": "stream",
     "text": [
      "[['I hate twitter', 0, 'negative'], ['May the Force be with you.', 1, 'positive'], [\"Mr. Stark, I don't feel so good\", 0, 'negative']]\n"
     ]
    }
   ],
   "source": [
    "if __name__ == \"__main__\": \n",
    "    text = [\"I hate twitter\",\n",
    "            \"May the Force be with you.\",\n",
    "            \"Mr. Stark, I don't feel so good\"]\n",
    "    \n",
    "    predictions = predict(loaded_pipe, text) \n",
    "    print(predictions)\n"
   ]
  },
  {
   "cell_type": "code",
   "execution_count": null,
   "metadata": {},
   "outputs": [],
   "source": []
  }
 ],
 "metadata": {
  "kernelspec": {
   "display_name": "base",
   "language": "python",
   "name": "python3"
  },
  "language_info": {
   "codemirror_mode": {
    "name": "ipython",
    "version": 3
   },
   "file_extension": ".py",
   "mimetype": "text/x-python",
   "name": "python",
   "nbconvert_exporter": "python",
   "pygments_lexer": "ipython3",
   "version": "3.9.16"
  },
  "orig_nbformat": 4
 },
 "nbformat": 4,
 "nbformat_minor": 2
}
